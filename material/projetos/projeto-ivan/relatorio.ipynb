{
 "cells": [
  {
   "cell_type": "markdown",
   "metadata": {},
   "source": [
    "## Maratona de Filmes\n",
    "\n",
    "##### Ivan Barros"
   ]
  },
  {
   "cell_type": "markdown",
   "metadata": {},
   "source": [
    "Você quer passar um final de semana assistindo ao máximo de filmes possível, mas há restrições quanto aos horários disponíveis e ao número de títulos que podem ser vistos em cada categoria (comédia, drama, ação, etc).\n",
    "\n",
    "Entrada: Um inteiro N representando o número de filmes disponíveis para assistir e N trios de inteiros (H[i], F[i], C[i]), representando a hora de início, a hora de fim e a categoria do i-ésimo filme. Além disso, um inteiro M representando o número de categorias e uma lista de M inteiros representando o número máximo de filmes que podem ser assistidos em cada categoria.\n",
    "\n",
    "Saída: Um inteiro representando o número máximo de filmes que podem ser assistidos de acordo com as restrições de horários e número máximo por categoria.\n",
    "\n",
    "### Heurística Gulosa\n",
    "\n",
    "Um algoritmo guloso é qualquer algoritmo que segue a heurística de resolução de problemas de fazer a escolha localmente ótima em cada estágio. Em muitos problemas, uma estratégia gulosa não produz uma solução ótima, mas uma heurística gulosa pode produzir soluções ótimas localmente que se aproximam de uma solução ótima global em um período de tempo razoável.\n",
    "\n",
    "Por exemplo, uma estratégia gulosa para o problema do caixeiro viajante (que é de alta complexidade computacional) é a seguinte heurística: \"A cada passo da jornada, visite a cidade não visitada mais próxima\". Esta heurística não pretende encontrar a melhor solução, mas termina em um número razoável de passos; encontrar uma solução ótima para um problema tão complexo normalmente requer muitos passos excessivos. Na otimização matemática, os algoritmos gananciosos resolvem problemas combinatórios com propriedades de matróides e fornecem aproximações de fator constante para problemas de otimização com a estrutura submodular.\n",
    "\n",
    "\n",
    "### Aleatoriedade\n",
    "\n",
    "Um gerador de números pseudo-aleatórios (RNG) é um algoritmo determinístico que gera uma sequência de números que parece aleatória. \n",
    "\n",
    "- determinístico: Um RNG tipicamente recebe como entrada um inteiro seed (que representa uma sequência de bits \"aleatória\") e gera uma sequência de números baseada no seed. Ou seja, o algoritmo é determinístico pois gera sempre a mesma sequência para uma determinada entrada (seed).\n"
   ]
  },
  {
   "cell_type": "markdown",
   "metadata": {},
   "source": [
    "## Implementação dos Algoritmos"
   ]
  },
  {
   "cell_type": "markdown",
   "metadata": {},
   "source": [
    "### Guloso"
   ]
  },
  {
   "cell_type": "markdown",
   "metadata": {},
   "source": [
    "A entrada é lida do usuário, onde a primeira linha contém dois inteiros n e m, que correspondem ao número total de filmes e o número de categorias, respectivamente. A próxima linha contém m inteiros, correspondendo ao número máximo de filmes que podem ser escolhidos para cada categoria. As próximas n linhas contêm informações sobre os filmes, cada uma contendo três inteiros: o tempo de início, o tempo de término e a categoria do filme.\n",
    "\n",
    "Os filmes são ordenados pelo tempo de término e, em seguida, são iterados um por um. Para cada filme, é verificado se ainda existem vagas disponíveis na categoria correspondente e se o filme é compatível com os filmes já selecionados (ou seja, se o horário do filme não coincide com o horário dos filmes selecionados até o momento). Se essas condições forem satisfeitas, o filme é adicionado à lista de filmes selecionados e o horário do filme é marcado como ocupado. O processo é repetido para cada filme até que todas as categorias tenham atingido seu limite de seleção."
   ]
  },
  {
   "cell_type": "markdown",
   "metadata": {},
   "source": [
    "#### Parte 1\n",
    "\n",
    "Nessa etapa, é definida a estrutura Movie, que contém informações sobre um filme, como id, start_time, end_time, category e schedule. Além disso, são definidas duas funções auxiliares: compare_movie e generate_schedule.\n",
    "\n",
    "A função compare_movie é usada para ordenar os filmes em ordem crescente de tempo de término, ou seja, os filmes mais cedo terminam primeiro.\n",
    "\n",
    "A função generate_schedule gera uma representação bit a bit de um intervalo de tempo, representando as horas em que um filme está sendo exibido. Essa representação é armazenada em um objeto bitset<24> para que cada bit corresponda a uma hora do dia. A função define todos os bits correspondentes às horas em que o filme está sendo exibido como 1."
   ]
  },
  {
   "cell_type": "code",
   "execution_count": null,
   "metadata": {},
   "outputs": [],
   "source": [
    "#include <iostream>\n",
    "#include <vector>\n",
    "#include <algorithm>\n",
    "#include <iomanip>\n",
    "#include <bitset>\n",
    "\n",
    "using namespace std;\n",
    "\n",
    "struct Movie {\n",
    "    int id;\n",
    "    int start_time;\n",
    "    int end_time;\n",
    "    int category;\n",
    "    std::bitset<24> schedule;\n",
    "};\n",
    "\n",
    "bool compare_movie(Movie a, Movie b) {\n",
    "    return a.end_time < b.end_time;\n",
    "}\n",
    "\n",
    "std::bitset<24> generate_schedule(int start, int end) {\n",
    "    std::bitset<24> schedule;\n",
    "\n",
    "    if (start == end) {\n",
    "        schedule.set(start);\n",
    "        return schedule;\n",
    "    }\n",
    "    \n",
    "    for (int i = start; i < end; i++) {\n",
    "        schedule.set(i);\n",
    "    }\n",
    "\n",
    "    return schedule;\n",
    "}"
   ]
  },
  {
   "cell_type": "markdown",
   "metadata": {},
   "source": [
    "#### Parte 2\n",
    "\n",
    "Nessa etapa estão definidas as funções que realizam a seleção dos filmes para o maratona de cinema utilizando uma heurística gulosa. As funções são as seguintes:\n",
    "\n",
    "   - select_movies: essa função recebe um vetor de filmes, um vetor de categorias, um vetor de números de filmes por categoria e um inteiro indicando a disponibilidade da maratona de cinema. Ela percorre todos os filmes, verificando se a categoria do filme tem ainda disponibilidade para seleção e se o horário do filme é compatível com a disponibilidade da maratona. Caso as condições sejam satisfeitas, o filme é adicionado à maratona.\n",
    "   - is_compatible_with_marathon: essa função recebe um bitset que representa o horário do filme e um inteiro que representa a disponibilidade da maratona. Ela verifica se há conflito de horários entre o filme e a maratona. Se não houver conflito, a função retorna true.\n",
    "   - add_movie_to_marathon: essa função recebe um filme, sua categoria, o vetor de números de filmes por categoria, a disponibilidade da maratona e o vetor de categorias selecionadas para a maratona. Ela adiciona o filme à maratona, atualizando a disponibilidade da maratona e a quantidade de filmes disponíveis para a categoria correspondente do filme.\n",
    "   - print_selected_movies: essa função recebe o vetor de filmes selecionados para a maratona, o vetor de categorias correspondentes a cada filme e o número total de filmes selecionados. Ela imprime o número total de filmes selecionados, seguido das informações de cada filme selecionado (id, horário de início, horário de término e categoria).\n",
    "   - greedy_heuristic: essa função recebe um vetor de filmes, um vetor de categorias, um vetor de números de filmes por categoria e um inteiro indicando a disponibilidade da maratona de cinema. Ela chama a função select_movies, que seleciona os filmes para a maratona de acordo com a heurística gulosa, e depois chama a função print_selected_movies, que imprime as informações dos filmes selecionados."
   ]
  },
  {
   "cell_type": "code",
   "execution_count": null,
   "metadata": {},
   "outputs": [],
   "source": [
    "vector<Movie> read_movies(int num_movies);\n",
    "\n",
    "void select_movies(vector<Movie>& movies, vector<int>& categories, vector<int>& num_movies, int& marathon_availability);\n",
    "\n",
    "bool is_compatible_with_marathon(const std::bitset<24>& schedule, const int marathon_availability);\n",
    "\n",
    "void add_movie_to_marathon(const Movie& movie, const int category, vector<int>& num_movies, int& marathon_availability, vector<int>& categories);\n",
    "\n",
    "void print_selected_movies(const vector<Movie>& movies, const vector<int>& categories, const int num_selected_movies);\n",
    "\n",
    "void greedy_heuristic(vector<Movie>& movies, vector<int>& categories, vector<int>& num_movies, int& marathon_availability);\n",
    "\n",
    "\n",
    "void select_movies(vector<Movie>& movies, vector<int>& categories, vector<int>& num_movies, int& marathon_availability) {\n",
    "    const int num_movies_total = movies.size();\n",
    "\n",
    "    for (int i = 0; i < num_movies_total; i++) {\n",
    "        const Movie& movie = movies[i];\n",
    "        const int category = movie.category;\n",
    "        const std::bitset<24> schedule = movie.schedule;\n",
    "\n",
    "        if (num_movies[category - 1] == 0) {\n",
    "            continue;\n",
    "        }\n",
    "\n",
    "        if (marathon_availability == 0 || is_compatible_with_marathon(schedule, marathon_availability)) {\n",
    "            add_movie_to_marathon(movie, category, num_movies, marathon_availability, categories);\n",
    "        }\n",
    "    }\n",
    "}\n",
    "\n",
    "bool is_compatible_with_marathon(const std::bitset<24>& schedule, const int marathon_availability) {\n",
    "    const std::bitset<24> temp_schedule(marathon_availability);\n",
    "    const std::bitset<24> intersection = temp_schedule & schedule;\n",
    "    return intersection.none();\n",
    "}\n",
    "\n",
    "void add_movie_to_marathon(const Movie& movie, const int category, vector<int>& num_movies, int& marathon_availability, vector<int>& categories) {\n",
    "    marathon_availability |= movie.schedule.to_ulong();\n",
    "    categories.push_back(category);\n",
    "    num_movies[category - 1]--;\n",
    "}\n",
    "\n",
    "void print_selected_movies(const vector<Movie>& movies, const vector<int>& categories, const int num_selected_movies) {\n",
    "    cout << num_selected_movies << endl;\n",
    "\n",
    "    for (int i = 0; i < num_selected_movies; i++) {\n",
    "        const Movie& movie = movies[i];\n",
    "        cout << movie.id << \" \" << movie.start_time << \" \" << movie.end_time << \" \" << categories[i] << endl;\n",
    "    }\n",
    "}\n",
    "\n",
    "void greedy_heuristic(vector<Movie>& movies, vector<int>& categories, vector<int>& num_movies, int& marathon_availability) {\n",
    "    select_movies(movies, categories, num_movies, marathon_availability);\n",
    "    const int num_selected_movies = categories.size();\n",
    "    print_selected_movies(movies, categories, num_selected_movies);\n",
    "}\n",
    "\n",
    "vector<Movie> read_movies(int num_movies) {\n",
    "    vector<Movie> movies;\n",
    "\n",
    "    for (int i = 0; i < num_movies; i++) {\n",
    "        int start_time, end_time, category;\n",
    "        cin >> start_time >> end_time >> category;\n",
    "\n",
    "        if (start_time > end_time) {\n",
    "            if (end_time == 0) {\n",
    "                end_time = 24;\n",
    "            } else if (start_time == -1 || end_time == -1) {\n",
    "                continue;\n",
    "            } else {\n",
    "                continue;\n",
    "            }\n",
    "        }\n",
    "\n",
    "        Movie movie;\n",
    "        movie.id = i + 1;\n",
    "        movie.start_time = start_time;\n",
    "        movie.end_time = end_time;\n",
    "        movie.category = category;\n",
    "        movie.schedule = generate_schedule(start_time, end_time);\n",
    "\n",
    "        movies.push_back(movie);\n",
    "    }\n",
    "\n",
    "    sort(movies.begin(), movies.end(), compare_movie);\n",
    "\n",
    "    return movies;\n",
    "}"
   ]
  },
  {
   "cell_type": "markdown",
   "metadata": {},
   "source": [
    "#### Parte 3\n",
    "\n",
    "Nesta parte do código, a função main é definida e executada. Dentro desta função, as seguintes etapas são executadas:\n",
    "\n",
    "   - O número de filmes e o número de categorias são lidos da entrada padrão através da função cin >> n >> m;.\n",
    "   - Em seguida, o número de filmes para cada categoria é lido e armazenado em um vetor chamado num_movies através de um loop for: for (int i = 0; i < m; i++) { cin >> num_movies[i]; }\n",
    "   - Os filmes são lidos da entrada padrão e armazenados em um vetor chamado movies usando a função read_movies.\n",
    "   - Um vetor vazio chamado categories e uma variável inteira marathon_availability são inicializados.\n",
    "   - A função greedy_heuristic é chamada com os argumentos movies, categories, num_movies e marathon_availability. Esta função implementa a heurística gulosa para selecionar os filmes para o festival.\n",
    "   - O programa retorna 0 e encerra."
   ]
  },
  {
   "cell_type": "code",
   "execution_count": null,
   "metadata": {},
   "outputs": [],
   "source": [
    "\n",
    "int main() {\n",
    "    int n, m;\n",
    "    cin >> n >> m;\n",
    "\n",
    "    vector<int> num_movies(m);\n",
    "    for (int i = 0; i < m; i++) {\n",
    "        cin >> num_movies[i];\n",
    "    }\n",
    "\n",
    "    vector<Movie> movies = read_movies(n);\n",
    "\n",
    "    vector<int> categories;\n",
    "    int marathon_availability = 0;\n",
    "\n",
    "    greedy_heuristic(movies, categories, num_movies, marathon_availability);\n",
    "\n",
    "    return 0;\n",
    "}"
   ]
  },
  {
   "cell_type": "markdown",
   "metadata": {},
   "source": [
    "### Aleatório"
   ]
  },
  {
   "cell_type": "markdown",
   "metadata": {},
   "source": [
    "#### Parte 1\n",
    "\n",
    "Nesta primeira parte do código, temos a inclusão de bibliotecas, a definição de uma estrutura Movie, que representa um filme com seu id, hora de início e término, categoria e um bitset de 24 bits para representar sua programação no horário do dia.\n",
    "\n",
    "Em seguida, temos a definição da função compare_movie, que recebe duas estruturas Movie como parâmetros e retorna true se o filme a termina antes do filme b. Isso será usado posteriormente para ordenar a lista de filmes.\n",
    "\n",
    "Também temos a definição da função generate_schedule, que recebe a hora de início e fim de um filme e retorna um bitset de 24 bits para representar sua programação no horário do dia.\n",
    "\n",
    "Há, além disso, a criação de um gerador de números aleatórios que definem uma distribuição uniforme de inteiros entre -2 e 5. Elas são usadas posteriormente no código."
   ]
  },
  {
   "cell_type": "code",
   "execution_count": null,
   "metadata": {},
   "outputs": [],
   "source": [
    "#include <iostream>\n",
    "#include <vector>\n",
    "#include <algorithm>\n",
    "#include <iomanip>\n",
    "#include <bitset>\n",
    "#include <random>\n",
    "\n",
    "using namespace std;\n",
    "std::default_random_engine generator;\n",
    "std::uniform_int_distribution<int> distribution(-2,5);\n",
    "\n",
    "struct Movie {\n",
    "    int id;\n",
    "    int start_time;\n",
    "    int end_time;\n",
    "    int category;\n",
    "    std::bitset<24> schedule;\n",
    "};\n",
    "\n",
    "bool compare_movie(Movie a, Movie b) {\n",
    "    return a.end_time < b.end_time;\n",
    "}\n",
    "\n",
    "std::bitset<24> generate_schedule(int start, int end) {\n",
    "    std::bitset<24> schedule;\n",
    "\n",
    "    if (start == end) {\n",
    "        schedule.set(start);\n",
    "        return schedule;\n",
    "    }\n",
    "    \n",
    "    for (int i = start; i < end; i++) {\n",
    "        schedule.set(i);\n",
    "    }\n",
    "\n",
    "    return schedule;\n",
    "}\n"
   ]
  },
  {
   "cell_type": "markdown",
   "metadata": {},
   "source": [
    "#### Parte 2\n",
    "\n",
    "Essa parte do código implementa a heurística aleatória para selecionar os filmes para a maratona. A função random_heuristic é a função principal que chama outras funções auxiliares para selecionar os filmes aleatoriamente.\n",
    "\n",
    "A função select_movies é responsável por iterar sobre todos os filmes e selecionar um subconjunto aleatório de filmes para o festival. Essa função usa uma distribuição uniforme para gerar números aleatórios e decide se um determinado filme deve ser adicionado ao festival ou não com base no número gerado aleatoriamente. A função também verifica se um filme é compatível com o horário do festival de cinema antes de adicioná-lo.\n",
    "\n",
    "A função is_compatible_with_marathon verifica se um filme pode ser adicionado ao horário do festival, sem conflitos com os outros filmes selecionados. Essa verificação é feita usando a operação & para verificar se há interseção entre os horários dos filmes selecionados e o horário do filme atual.\n",
    "\n",
    "A função add_movie_to_marathon adiciona o filme selecionado ao festival de cinema e atualiza o horário do festival e as informações sobre o número de filmes de cada categoria.\n",
    "\n",
    "A função print_selected_movies imprime os filmes selecionados com seus respectivos detalhes (id, horário de início e término e categoria).\n",
    "\n",
    "A função \"read_movies\" lê informações de \"num_movies\" filmes a partir da entrada padrão (cin) e os armazena em um vetor de objetos \"Movie\". As informações lidas incluem o tempo de início, tempo de término e categoria de cada filme. Se o tempo de início for maior que o tempo de término, o tempo de término é ajustado para 24 se o tempo de término for 0 ou o filme é ignorado se o tempo de início ou tempo de término for -1. A função também gera um horário de exibição para cada filme usando a função \"generate_schedule\". Os filmes são classificados em ordem crescente de tempo de início antes de serem retornados como o vetor \"movies\"."
   ]
  },
  {
   "cell_type": "code",
   "execution_count": null,
   "metadata": {},
   "outputs": [],
   "source": [
    "vector<Movie> read_movies(int num_movies);\n",
    "\n",
    "void select_movies(vector<Movie>& movies, vector<int>& categories, vector<int>& num_movies, int& marathon_availability);\n",
    "\n",
    "bool is_compatible_with_marathon(const std::bitset<24>& schedule, const int marathon_availability);\n",
    "\n",
    "void add_movie_to_marathon(const Movie& movie, const int category, vector<int>& num_movies, int& marathon_availability, vector<int>& categories);\n",
    "\n",
    "void print_selected_movies(const vector<Movie>& movies, const vector<int>& categories, const int num_selected_movies);\n",
    "\n",
    "void random_heuristic(vector<Movie>& movies, vector<int>& categories, vector<int>& num_movies, int& marathon_availability);\n",
    "\n",
    "\n",
    "void select_movies(vector<Movie>& movies, vector<int>& categories, vector<int>& num_movies, int& marathon_availability) {\n",
    "    const int num_movies_total = movies.size();\n",
    "    std::default_random_engine rng(10);\n",
    "    std::uniform_real_distribution<double> dist(0.0, 1.0);\n",
    "\n",
    "    for (int i = 0; i < num_movies_total; i++) {\n",
    "        double random_number = dist(rng);\n",
    "        const Movie& movie = movies[i];\n",
    "        const int category = movie.category;\n",
    "        const std::bitset<24> schedule = movie.schedule;\n",
    "\n",
    "        if (num_movies[category - 1] == 0) {\n",
    "            continue;\n",
    "        }\n",
    "\n",
    "        if (random_number <= 0.25) {\n",
    "            add_movie_to_marathon(movie, category, num_movies, marathon_availability, categories);\n",
    "        } else if (marathon_availability == 0 || is_compatible_with_marathon(schedule, marathon_availability)) {\n",
    "            add_movie_to_marathon(movie, category, num_movies, marathon_availability, categories);\n",
    "        }\n",
    "    }\n",
    "}\n",
    "\n",
    "\n",
    "bool is_compatible_with_marathon(const std::bitset<24>& schedule, const int marathon_availability) {\n",
    "    const std::bitset<24> temp_schedule(marathon_availability);\n",
    "    const std::bitset<24> intersection = temp_schedule & schedule;\n",
    "    return intersection.none();\n",
    "}\n",
    "\n",
    "void add_movie_to_marathon(const Movie& movie, const int category, vector<int>& num_movies, int& marathon_availability, vector<int>& categories) {\n",
    "    marathon_availability |= movie.schedule.to_ulong();\n",
    "    categories.push_back(category);\n",
    "    num_movies[category - 1]--;\n",
    "}\n",
    "\n",
    "void print_selected_movies(const vector<Movie>& movies, const vector<int>& categories, const int num_selected_movies) {\n",
    "    cout << num_selected_movies << endl;\n",
    "\n",
    "    for (int i = 0; i < num_selected_movies; i++) {\n",
    "        const Movie& movie = movies[i];\n",
    "        cout << movie.id << \" \" << movie.start_time << \" \" << movie.end_time << \" \" << categories[i] << endl;\n",
    "    }\n",
    "}\n",
    "\n",
    "void random_heuristic(vector<Movie>& movies, vector<int>& categories, vector<int>& num_movies, int& marathon_availability) {\n",
    "    select_movies(movies, categories, num_movies, marathon_availability);\n",
    "    const int num_selected_movies = categories.size();\n",
    "    print_selected_movies(movies, categories, num_selected_movies);\n",
    "}\n",
    "\n",
    "vector<Movie> read_movies(int num_movies) {\n",
    "    vector<Movie> movies;\n",
    "\n",
    "    for (int i = 0; i < num_movies; i++) {\n",
    "        int start_time, end_time, category;\n",
    "        cin >> start_time >> end_time >> category;\n",
    "\n",
    "        if (start_time > end_time) {\n",
    "            if (end_time == 0) {\n",
    "                end_time = 24;\n",
    "            } else if (start_time == -1 || end_time == -1) {\n",
    "                continue;\n",
    "            } else {\n",
    "                continue;\n",
    "            }\n",
    "        }\n",
    "\n",
    "        Movie movie;\n",
    "        movie.id = i + 1;\n",
    "        movie.start_time = start_time;\n",
    "        movie.end_time = end_time;\n",
    "        movie.category = category;\n",
    "        movie.schedule = generate_schedule(start_time, end_time);\n",
    "\n",
    "        movies.push_back(movie);\n",
    "    }\n",
    "\n",
    "    sort(movies.begin(), movies.end(), compare_movie);\n",
    "\n",
    "    return movies;\n",
    "}\n"
   ]
  },
  {
   "cell_type": "markdown",
   "metadata": {},
   "source": [
    "#### Parte 3\n",
    "\n",
    "Neste trecho de código, o programa principal (função main()) solicita ao usuário o número total de filmes n e o número de categorias m existentes. Em seguida, ele lê a quantidade de filmes em cada categoria e armazena esses valores em um vetor num_movies. Depois, a função read_movies() é chamada para ler os detalhes de cada filme e armazená-los em um vetor movies, que é ordenado pela hora de início dos filmes.\n",
    "\n",
    "A seguir, são criados um vetor vazio categories para armazenar as categorias dos filmes selecionados e uma variável marathon_availability inicializada com zero, que será usada para controlar a disponibilidade de horários para maratonas de filmes. Por fim, a função random_heuristic() é chamada com os argumentos movies, categories, num_movies e marathon_availability para selecionar uma lista de filmes com base na heurística aleatória implementada. O programa retorna 0 quando a função main() é encerrada."
   ]
  },
  {
   "cell_type": "code",
   "execution_count": null,
   "metadata": {},
   "outputs": [],
   "source": [
    "int main() {\n",
    "    int n, m;\n",
    "    cin >> n >> m;\n",
    "\n",
    "    vector<int> num_movies(m);\n",
    "    for (int i = 0; i < m; i++) {\n",
    "        cin >> num_movies[i];\n",
    "    }\n",
    "\n",
    "    vector<Movie> movies = read_movies(n);\n",
    "\n",
    "    vector<int> categories;\n",
    "    int marathon_availability = 0;\n",
    "\n",
    "    random_heuristic(movies, categories, num_movies, marathon_availability);\n",
    "\n",
    "    return 0;\n",
    "}\n",
    "\n"
   ]
  },
  {
   "cell_type": "markdown",
   "metadata": {},
   "source": [
    "## Output Gerado"
   ]
  },
  {
   "cell_type": "markdown",
   "metadata": {},
   "source": [
    "O arquivo .txt gerado na saída do programa tem o seguinte formato:\n",
    " - Linha 1: Quantidade n de filmes ajustados para a situação\n",
    " - Linhas 2 a n+1: id dos filmes escolhidos, juntamente com sua categoria"
   ]
  },
  {
   "cell_type": "markdown",
   "metadata": {},
   "source": [
    "Exemplo de arquivo gerado na saída:\n",
    "\n",
    "~~~javascript\n",
    "24\n",
    "1215 2\n",
    "2427 4\n",
    "2256 3\n",
    "9419 1\n",
    "1783 5\n",
    "5382 3\n",
    "7192 5\n",
    "6915 6\n",
    "9276 7\n",
    "8657 3\n",
    "2230 3\n",
    "7821 4\n",
    "672 7\n",
    "3193 7\n",
    "543 7\n",
    "2722 4\n",
    "1343 4\n",
    "1469 4\n",
    "9240 3\n",
    "4585 3\n",
    "4040 6\n",
    "1732 6\n",
    "2959 4\n",
    "7711 6\n",
    "\n",
    "~~~"
   ]
  },
  {
   "cell_type": "markdown",
   "metadata": {},
   "source": [
    "## Profiling"
   ]
  },
  {
   "cell_type": "markdown",
   "metadata": {},
   "source": [
    "É preciso realizar uma análise de um programa durante sua execução, de modo a determinar seu consumo de memória e/ou tempo de execução\n",
    "\n",
    "Com profiling, podemos responder duas importantes perguntas:\n",
    " - Onde o programa consome mais recursos?\n",
    " - Onde devo concentrar meus esforços de otimização?"
   ]
  },
  {
   "cell_type": "markdown",
   "metadata": {},
   "source": [
    "Vamos fazer uso da ferramenta Valgrind para realizar o profiling desse código e entender esses pontos relacionados ao programa"
   ]
  },
  {
   "cell_type": "markdown",
   "metadata": {},
   "source": [
    "### Gulosa"
   ]
  },
  {
   "cell_type": "code",
   "execution_count": null,
   "metadata": {},
   "outputs": [],
   "source": [
    "!valgrind --tool=callgrind ./greedy <input_valgrind.txt > greedy_valgrind_output.txt"
   ]
  },
  {
   "cell_type": "markdown",
   "metadata": {},
   "source": [
    "![valgrind](img/img1.png)"
   ]
  },
  {
   "cell_type": "markdown",
   "metadata": {},
   "source": [
    "Com isso, encontramos o valor de PID= 9576 e podemos executar o codigo:"
   ]
  },
  {
   "cell_type": "code",
   "execution_count": null,
   "metadata": {},
   "outputs": [],
   "source": [
    "!callgrind_annotate callgrind.out.9576 greedy.cpp "
   ]
  },
  {
   "cell_type": "markdown",
   "metadata": {},
   "source": [
    "![valgrind2](img/img2.png)\n",
    "![valgrind3](img/img3.png)\n",
    "![valgrind4](img/img4.png)\n",
    "![valgrind5](img/img5.png)"
   ]
  },
  {
   "cell_type": "markdown",
   "metadata": {},
   "source": [
    "### Aleatoria"
   ]
  },
  {
   "cell_type": "code",
   "execution_count": null,
   "metadata": {},
   "outputs": [],
   "source": [
    "!valgrind --tool=callgrind ./randomization <input_valgrind.txt > random_valgrind_output.txt"
   ]
  },
  {
   "cell_type": "markdown",
   "metadata": {},
   "source": [
    "![valgrind6](img/img6.png)"
   ]
  },
  {
   "cell_type": "markdown",
   "metadata": {},
   "source": [
    "Com isso, encontramos o valor de PID= 11117 e podemos executar o codigo:"
   ]
  },
  {
   "cell_type": "code",
   "execution_count": null,
   "metadata": {},
   "outputs": [],
   "source": [
    "!callgrind_annotate callgrind.out.11117 randomization.cpp "
   ]
  },
  {
   "cell_type": "markdown",
   "metadata": {},
   "source": [
    "![valgrind7](img/img7.png)\n",
    "![valgrind8](img/img8.png)\n",
    "![valgrind9](img/img9.png)\n",
    "![valgrind10](img/img10.png)"
   ]
  },
  {
   "cell_type": "markdown",
   "metadata": {},
   "source": [
    "### Takeaways\n",
    "\n",
    "Ao analisar o desempenho dos programas, é possível destacar que ambos apresentam problemas de vazamento de memória devido à falta de desalocação de recursos. No entanto, o programa que utiliza a estratégia aleatória apresenta ainda mais questões relacionadas à alocação e liberação de memória, com diversas chamadas repetitivas a funções específicas. É preciso otimizar essas chamadas para melhorar a performance desse programa.\n",
    "\n",
    "Outra questão que precisa ser abordada em ambos os programas é a alocação dinâmica de memória, que pode ser otimizada.\n",
    "\n",
    "Ao analisar o desempenho do programa aleatório, foi identificado que o loop que cria uma lista apenas com filmes disponíveis no horário atual consome muitos recursos, embora seja uma opção melhor do que procurar um filme aleatoriamente. É necessário comparar mais casos para buscar melhorias nesse aspecto.\n",
    "\n",
    "Por outro lado, no programa guloso, há diversas melhorias possíveis, incluindo a alocação dinâmica de memória e a redução no número de alocações e liberações de recursos.\n",
    "\n",
    "Vale ressaltar que em todas as análises realizadas, foi observada uma grande quantidade de chamadas às funções de cin e cout, que realizam diversas requisições de instruções por linha de código. Isso compromete a eficiência do programa, visto que estradas e saídas são extremamente custosas (como vimos em aula)"
   ]
  },
  {
   "cell_type": "markdown",
   "metadata": {},
   "source": [
    "## comparando desempenhos"
   ]
  },
  {
   "cell_type": "markdown",
   "metadata": {},
   "source": [
    "Os arquivos de input utilizados são do formato input_n_m em que n e m são o número de filmes e o número de categorias, respectivamente. \n",
    "\n",
    "- n varia entre 10000 e 10000000 \n",
    "- m varia entre 2 e 10"
   ]
  },
  {
   "cell_type": "markdown",
   "metadata": {},
   "source": [
    "### Compilando"
   ]
  },
  {
   "cell_type": "markdown",
   "metadata": {},
   "source": [
    "Exemplo de compilação"
   ]
  },
  {
   "cell_type": "code",
   "execution_count": null,
   "metadata": {},
   "outputs": [],
   "source": [
    " g++ -Wall -O3 -g greedy.cpp -o greedy"
   ]
  },
  {
   "cell_type": "markdown",
   "metadata": {},
   "source": [
    "### Executando"
   ]
  },
  {
   "cell_type": "markdown",
   "metadata": {},
   "source": [
    "Exemplo de execução"
   ]
  },
  {
   "cell_type": "code",
   "execution_count": null,
   "metadata": {},
   "outputs": [],
   "source": [
    "./greedy < input_files/input_10000_10.txt > /output_files/greedy_output_10000_10.txt"
   ]
  },
  {
   "cell_type": "markdown",
   "metadata": {},
   "source": [
    "## Comparação de resultados"
   ]
  },
  {
   "cell_type": "markdown",
   "metadata": {},
   "source": [
    "O código abaixo é responsável por testar o desempenho de dois algoritmos diferentes - \"greedy\" e \"randomization\" - em diferentes arquivos de entrada com diferentes tamanhos de dados. O objetivo é comparar o tempo de execução e o consumo de memória dos dois algoritmos em diferentes cenários.\n",
    "\n",
    "O código cria uma estrutura de dados em forma de dicionário que armazena os resultados de cada teste. Para cada algoritmo e arquivo de entrada, o código executa o algoritmo dez vezes e mede o tempo de execução e o consumo de memória para cada execução. Os resultados são armazenados no dicionário criado anteriormente para posterior análise.\n",
    "\n",
    "O código usa a biblioteca pandas para criar um dataframe que organiza os resultados em uma tabela e a biblioteca matplotlib para plotar gráficos que mostram a comparação de desempenho entre os dois algoritmos em diferentes cenários."
   ]
  },
  {
   "cell_type": "code",
   "execution_count": null,
   "metadata": {},
   "outputs": [],
   "source": [
    "import time\n",
    "\n",
    "algorithms = ['greedy', 'randomization']\n",
    "file_sizes = ['input_100000_2.txt', 'input_100000_5.txt', 'input_100000_10.txt', 'input_1000000_2.txt', 'input_1000000_5.txt', 'input_1000000_10.txt']\n",
    "\n",
    "data = {algo: {file: {'tempo': [], 'memoria': []} for file in file_sizes} for algo in algorithms}\n",
    "\n",
    "def number_of_movies(file):\n",
    "    with open(file, 'r') as f:\n",
    "        line = f.readline().split()\n",
    "        return int(line[0])\n",
    "    \n",
    "for algorithm, files in data.items():\n",
    "    for file_name, measurements in files.items():\n",
    "        for i in range(10):\n",
    "            print(f\"{algorithm} - {file_name} - {i+1}/10\")\n",
    "            output_name = f\"{i}_{file_name.split('_')[1]}\"\n",
    "            start_time = time.time()\n",
    "            !./{algorithm} < input_files/{file_name} > output_files/{algorithm}_output_{output_name}\n",
    "            end_time = time.time() - start_time\n",
    "            print(f\"\\tTime: {end_time}\")\n",
    "            measurements[\"tempo\"].append(end_time)\n",
    "            measurements[\"memoria\"].append(number_of_movies(f\"output_files/{algorithm}_output_{output_name}\"))"
   ]
  },
  {
   "cell_type": "markdown",
   "metadata": {},
   "source": [
    "Agora salvaremos o resultado em um json"
   ]
  },
  {
   "cell_type": "code",
   "execution_count": null,
   "metadata": {},
   "outputs": [],
   "source": [
    "import json\n",
    "\n",
    "with open('data.json', 'w') as fp:\n",
    "    json.dump(json.dumps(data, indent=2), fp)"
   ]
  },
  {
   "cell_type": "markdown",
   "metadata": {},
   "source": [
    "Gerando o DataFrame para ser utilizado no gráfico"
   ]
  },
  {
   "cell_type": "code",
   "execution_count": null,
   "metadata": {},
   "outputs": [],
   "source": [
    "df = pd.DataFrame(columns=['algorithm', 'file', 'iteration', 'tempo', 'memoria'])\n",
    "\n",
    "for algoritmo in data:\n",
    "    for arquivo in data[algoritmo]:\n",
    "        for i in range(10):\n",
    "            df = pd.concat([df, pd.DataFrame({\n",
    "                'algorithm': [algorithm],\n",
    "                'file': [file],\n",
    "                'iteration': [i+1],\n",
    "                'tempo': [data[algoritmo][arquivo]['tempo'][i]],\n",
    "                'memoria': [data[algoritmo][arquivo]['memoria'][i]]\n",
    "            })])\n",
    "\n",
    "df"
   ]
  },
  {
   "cell_type": "code",
   "execution_count": null,
   "metadata": {},
   "outputs": [],
   "source": [
    "df.to_csv('data.csv', index=False)"
   ]
  },
  {
   "cell_type": "markdown",
   "metadata": {},
   "source": [
    "### Gŕafico de tempo"
   ]
  },
  {
   "cell_type": "code",
   "execution_count": null,
   "metadata": {},
   "outputs": [],
   "source": [
    "df_mean = df.groupby(['algorithm', 'file']).mean(numeric_only=True).reset_index()\n",
    "df_mean.sort_values(by=['tempo'], inplace=True)\n"
   ]
  },
  {
   "cell_type": "code",
   "execution_count": null,
   "metadata": {},
   "outputs": [],
   "source": [
    "fig, ax = plt.subplots(figsize=(10, 5))\n",
    "for algorithm in df_mean['algorithm'].unique():\n",
    "    df_aux = df_mean[df_mean['algorithm'] == algorithm]\n",
    "    ax.plot(df_aux['file'], df_aux['file'], label=algorithm)\n",
    "\n",
    "ax.set_title('Time of each algorith by file')\n",
    "ax.set_xlabel('File')\n",
    "ax.set_ylabel('Time (s)')\n",
    "ax.legend()\n",
    "plt.show()"
   ]
  },
  {
   "cell_type": "markdown",
   "metadata": {},
   "source": [
    "### Gráfico de filmes por input"
   ]
  },
  {
   "cell_type": "code",
   "execution_count": null,
   "metadata": {},
   "outputs": [],
   "source": [
    "df_mean_movies = df.drop(columns=['tempo','iteration'])\n",
    "df_mean_movies = df_mean_movies.groupby(['algorithm', 'file']).mean().reset_index()\n",
    "order_files = list(data['greedy'].keys())\n",
    "\n",
    "df_mean_movies['file'] = pd.Categorical(df_mean_movies['file'], categories=order_files, ordered=True)\n",
    "df_mean_movies = df_mean_movies.sort_values(by=['file'])\n"
   ]
  },
  {
   "cell_type": "code",
   "execution_count": null,
   "metadata": {},
   "outputs": [],
   "source": [
    "fig, ax = plt.subplots(figsize=(10, 5))\n",
    "\n",
    "for algorithm in df_mean_movies['algorithm'].unique():\n",
    "    df_aux = df_mean_movies[df_mean_movies['algorithm'] == algorithm]\n",
    "    ax.plot(df_aux['file'], df_aux['memoria'], label=algorithm)\n",
    "\n",
    "ax.set_title('Movies for each file')\n",
    "ax.set_xlabel('file')\n",
    "ax.set_ylabel('# movies')\n",
    "ax.legend()\n",
    "plt.show()"
   ]
  }
 ],
 "metadata": {
  "kernelspec": {
   "display_name": "Python 3",
   "language": "python",
   "name": "python3"
  },
  "language_info": {
   "codemirror_mode": {
    "name": "ipython",
    "version": 3
   },
   "file_extension": ".py",
   "mimetype": "text/x-python",
   "name": "python",
   "nbconvert_exporter": "python",
   "pygments_lexer": "ipython3",
   "version": "3.7.3"
  }
 },
 "nbformat": 4,
 "nbformat_minor": 2
}
